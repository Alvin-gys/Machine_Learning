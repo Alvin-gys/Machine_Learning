{
 "cells": [
  {
   "cell_type": "code",
   "execution_count": 1,
   "metadata": {
    "collapsed": true
   },
   "outputs": [],
   "source": [
    "import tensorflow as tf\n",
    "from tensorflow.examples.tutorials.mnist import input_data"
   ]
  },
  {
   "cell_type": "code",
   "execution_count": 2,
   "metadata": {
    "collapsed": false
   },
   "outputs": [
    {
     "name": "stdout",
     "output_type": "stream",
     "text": [
      "Extracting MNIST_data\\train-images-idx3-ubyte.gz\n",
      "Extracting MNIST_data\\train-labels-idx1-ubyte.gz\n",
      "Extracting MNIST_data\\t10k-images-idx3-ubyte.gz\n",
      "Extracting MNIST_data\\t10k-labels-idx1-ubyte.gz\n",
      "WARNING:tensorflow:From F:\\Anaconda3\\lib\\site-packages\\tensorflow\\python\\ops\\losses\\losses_impl.py:731: softmax_cross_entropy_with_logits (from tensorflow.python.ops.nn_ops) is deprecated and will be removed in a future version.\n",
      "Instructions for updating:\n",
      "\n",
      "Future major versions of TensorFlow will allow gradients to flow\n",
      "into the labels input on backprop by default.\n",
      "\n",
      "See tf.nn.softmax_cross_entropy_with_logits_v2.\n",
      "\n",
      "Iter 0,Testing Accuracy 0.9099\n",
      "Iter 1,Testing Accuracy 0.9172\n",
      "Iter 2,Testing Accuracy 0.9204\n",
      "Iter 3,Testing Accuracy 0.9225\n",
      "Iter 4,Testing Accuracy 0.9229\n",
      "Iter 5,Testing Accuracy 0.9225\n",
      "Iter 6,Testing Accuracy 0.9209\n",
      "Iter 7,Testing Accuracy 0.9225\n",
      "Iter 8,Testing Accuracy 0.9239\n",
      "Iter 9,Testing Accuracy 0.9211\n",
      "Iter 10,Testing Accuracy 0.9257\n",
      "Iter 11,Testing Accuracy 0.9238\n",
      "Iter 12,Testing Accuracy 0.9227\n",
      "Iter 13,Testing Accuracy 0.9249\n",
      "Iter 14,Testing Accuracy 0.9244\n",
      "Iter 15,Testing Accuracy 0.9264\n",
      "Iter 16,Testing Accuracy 0.9248\n",
      "Iter 17,Testing Accuracy 0.9268\n",
      "Iter 18,Testing Accuracy 0.9239\n",
      "Iter 19,Testing Accuracy 0.9243\n",
      "Iter 20,Testing Accuracy 0.9243\n"
     ]
    }
   ],
   "source": [
    "#载入数据集\n",
    "mnist = input_data.read_data_sets(\"MNIST_data\",one_hot=True)\n",
    "\n",
    "#每个批次的大小\n",
    "batch_size = 64\n",
    "#计算一共有多少个批次\n",
    "n_batch = mnist.train.num_examples // batch_size\n",
    "\n",
    "#定义两个placeholder\n",
    "x = tf.placeholder(tf.float32,[None,784])\n",
    "y = tf.placeholder(tf.float32,[None,10])\n",
    "\n",
    "#创建一个简单的神经网络\n",
    "# W = tf.Variable(tf.zeros([784,10]))\n",
    "# b = tf.Variable(tf.zeros([10]))\n",
    "W = tf.Variable(tf.truncated_normal([784,10],stddev=0.1))\n",
    "b = tf.Variable(tf.zeros([10])+0.1)\n",
    "# prediction = tf.nn.softmax(tf.matmul(x,W)+b)\n",
    "prediction = tf.matmul(x,W)+b\n",
    "\n",
    "#交叉熵代价函数\n",
    "# loss = tf.losses.mean_squared_error(y,prediction)\n",
    "loss = tf.losses.softmax_cross_entropy(y,prediction)\n",
    "\n",
    "#使用梯度下降法\n",
    "train_step = tf.train.GradientDescentOptimizer(0.2).minimize(loss)\n",
    "\n",
    "#初始化变量\n",
    "init = tf.global_variables_initializer()\n",
    "\n",
    "#结果存放在一个布尔型列表中\n",
    "correct_prediction = tf.equal(tf.argmax(y,1),tf.argmax(prediction,1))#argmax返回一维张量中最大的值所在的位置\n",
    "#求准确率\n",
    "accuracy = tf.reduce_mean(tf.cast(correct_prediction,tf.float32))\n",
    "\n",
    "with tf.Session() as sess:\n",
    "    sess.run(init)\n",
    "    for epoch in range(21):\n",
    "        for batch in range(n_batch):\n",
    "            batch_xs,batch_ys =  mnist.train.next_batch(batch_size)\n",
    "            sess.run(train_step,feed_dict={x:batch_xs,y:batch_ys})\n",
    "        \n",
    "        acc = sess.run(accuracy,feed_dict={x:mnist.test.images,y:mnist.test.labels})\n",
    "        print(\"Iter \" + str(epoch) + \",Testing Accuracy \" + str(acc))"
   ]
  },
  {
   "cell_type": "code",
   "execution_count": null,
   "metadata": {
    "collapsed": true
   },
   "outputs": [],
   "source": [
    "Iter 0,Testing Accuracy 0.8608\n",
    "Iter 1,Testing Accuracy 0.8831\n",
    "Iter 2,Testing Accuracy 0.8931\n",
    "Iter 3,Testing Accuracy 0.8975\n",
    "Iter 4,Testing Accuracy 0.9011\n",
    "Iter 5,Testing Accuracy 0.9039\n",
    "Iter 6,Testing Accuracy 0.9052\n",
    "Iter 7,Testing Accuracy 0.9074\n",
    "Iter 8,Testing Accuracy 0.9091\n",
    "Iter 9,Testing Accuracy 0.9103\n",
    "Iter 10,Testing Accuracy 0.9117\n",
    "Iter 11,Testing Accuracy 0.9129\n",
    "Iter 12,Testing Accuracy 0.9135\n",
    "Iter 13,Testing Accuracy 0.9143\n",
    "Iter 14,Testing Accuracy 0.9152\n",
    "Iter 15,Testing Accuracy 0.9163\n",
    "Iter 16,Testing Accuracy 0.9169\n",
    "Iter 17,Testing Accuracy 0.9169\n",
    "Iter 18,Testing Accuracy 0.918\n",
    "Iter 19,Testing Accuracy 0.9171\n",
    "Iter 20,Testing Accuracy 0.9188"
   ]
  }
 ],
 "metadata": {
  "anaconda-cloud": {},
  "kernelspec": {
   "display_name": "Python [default]",
   "language": "python",
   "name": "python3"
  },
  "language_info": {
   "codemirror_mode": {
    "name": "ipython",
    "version": 3
   },
   "file_extension": ".py",
   "mimetype": "text/x-python",
   "name": "python",
   "nbconvert_exporter": "python",
   "pygments_lexer": "ipython3",
   "version": "3.5.2"
  }
 },
 "nbformat": 4,
 "nbformat_minor": 1
}
