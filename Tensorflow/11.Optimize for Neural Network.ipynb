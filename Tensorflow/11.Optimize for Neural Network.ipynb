{
 "cells": [
  {
   "cell_type": "code",
   "execution_count": 1,
   "metadata": {
    "collapsed": false
   },
   "outputs": [
    {
     "name": "stdout",
     "output_type": "stream",
     "text": [
      "Extracting MNIST_data/train-images-idx3-ubyte.gz\n",
      "Extracting MNIST_data/train-labels-idx1-ubyte.gz\n",
      "Extracting MNIST_data/t10k-images-idx3-ubyte.gz\n",
      "Extracting MNIST_data/t10k-labels-idx1-ubyte.gz\n",
      "Iter 0, Testing Accuracy= 0.9512, Learning Rate= 0.001\n",
      "Iter 1, Testing Accuracy= 0.9639, Learning Rate= 0.00095\n",
      "Iter 2, Testing Accuracy= 0.9667, Learning Rate= 0.0009025\n",
      "Iter 3, Testing Accuracy= 0.9729, Learning Rate= 0.000857375\n",
      "Iter 4, Testing Accuracy= 0.9747, Learning Rate= 0.000814506\n",
      "Iter 5, Testing Accuracy= 0.9718, Learning Rate= 0.000773781\n",
      "Iter 6, Testing Accuracy= 0.9745, Learning Rate= 0.000735092\n",
      "Iter 7, Testing Accuracy= 0.9759, Learning Rate= 0.000698337\n",
      "Iter 8, Testing Accuracy= 0.977, Learning Rate= 0.00066342\n",
      "Iter 9, Testing Accuracy= 0.9754, Learning Rate= 0.000630249\n",
      "Iter 10, Testing Accuracy= 0.981, Learning Rate= 0.000598737\n",
      "Iter 11, Testing Accuracy= 0.9764, Learning Rate= 0.0005688\n",
      "Iter 12, Testing Accuracy= 0.979, Learning Rate= 0.00054036\n",
      "Iter 13, Testing Accuracy= 0.9798, Learning Rate= 0.000513342\n",
      "Iter 14, Testing Accuracy= 0.9767, Learning Rate= 0.000487675\n",
      "Iter 15, Testing Accuracy= 0.9804, Learning Rate= 0.000463291\n",
      "Iter 16, Testing Accuracy= 0.9775, Learning Rate= 0.000440127\n",
      "Iter 17, Testing Accuracy= 0.9797, Learning Rate= 0.00041812\n",
      "Iter 18, Testing Accuracy= 0.9803, Learning Rate= 0.000397214\n",
      "Iter 19, Testing Accuracy= 0.9794, Learning Rate= 0.000377354\n",
      "Iter 20, Testing Accuracy= 0.9812, Learning Rate= 0.000358486\n"
     ]
    }
   ],
   "source": [
    "import tensorflow as tf\n",
    "from tensorflow.examples.tutorials.mnist import input_data\n",
    "\n",
    "#载入数据集\n",
    "mnist = input_data.read_data_sets(\"MNIST_data\",one_hot=True)\n",
    "\n",
    "#每个批次的大小\n",
    "batch_size = 64\n",
    "#计算一共有多少个批次\n",
    "n_batch = mnist.train.num_examples // batch_size\n",
    "\n",
    "#定义三个placeholder\n",
    "x = tf.placeholder(tf.float32,[None,784])\n",
    "y = tf.placeholder(tf.float32,[None,10])\n",
    "keep_prob=tf.placeholder(tf.float32)\n",
    "lr = tf.Variable(0.001, dtype=tf.float32)\n",
    "\n",
    "# 784-500-300-10\n",
    "#创建一个神经网络\n",
    "W1 = tf.Variable(tf.truncated_normal([784,500],stddev=0.1))\n",
    "b1 = tf.Variable(tf.zeros([500])+0.1)\n",
    "L1 = tf.nn.tanh(tf.matmul(x,W1)+b1)\n",
    "L1_drop = tf.nn.dropout(L1,keep_prob) \n",
    "\n",
    "W2 = tf.Variable(tf.truncated_normal([500,300],stddev=0.1))\n",
    "b2 = tf.Variable(tf.zeros([300])+0.1)\n",
    "L2 = tf.nn.tanh(tf.matmul(L1_drop,W2)+b2)\n",
    "L2_drop = tf.nn.dropout(L2,keep_prob) \n",
    "\n",
    "W3 = tf.Variable(tf.truncated_normal([300,10],stddev=0.1))\n",
    "b3 = tf.Variable(tf.zeros([10])+0.1)\n",
    "prediction = tf.nn.softmax(tf.matmul(L2_drop,W3)+b3)\n",
    "\n",
    "#交叉熵代价函数\n",
    "loss = tf.losses.softmax_cross_entropy(y,prediction)\n",
    "#训练\n",
    "train_step = tf.train.AdamOptimizer(lr).minimize(loss)\n",
    "\n",
    "#初始化变量\n",
    "init = tf.global_variables_initializer()\n",
    "\n",
    "#结果存放在一个布尔型列表中\n",
    "correct_prediction = tf.equal(tf.argmax(y,1),tf.argmax(prediction,1))#argmax返回一维张量中最大的值所在的位置\n",
    "#求准确率\n",
    "accuracy = tf.reduce_mean(tf.cast(correct_prediction,tf.float32))\n",
    "\n",
    "with tf.Session() as sess:\n",
    "    sess.run(init)\n",
    "    for epoch in range(21):\n",
    "        sess.run(tf.assign(lr, 0.001 * (0.95 ** epoch)))\n",
    "        for batch in range(n_batch):\n",
    "            batch_xs,batch_ys =  mnist.train.next_batch(batch_size)\n",
    "            sess.run(train_step,feed_dict={x:batch_xs,y:batch_ys,keep_prob:1.0})\n",
    "        \n",
    "        learning_rate = sess.run(lr)\n",
    "        acc = sess.run(accuracy,feed_dict={x:mnist.test.images,y:mnist.test.labels,keep_prob:1.0})\n",
    "        print (\"Iter \" + str(epoch) + \", Testing Accuracy= \" + str(acc) + \", Learning Rate= \" + str(learning_rate))"
   ]
  },
  {
   "cell_type": "code",
   "execution_count": null,
   "metadata": {
    "collapsed": true
   },
   "outputs": [],
   "source": []
  }
 ],
 "metadata": {
  "anaconda-cloud": {},
  "kernelspec": {
   "display_name": "Python [default]",
   "language": "python",
   "name": "python3"
  },
  "language_info": {
   "codemirror_mode": {
    "name": "ipython",
    "version": 3
   },
   "file_extension": ".py",
   "mimetype": "text/x-python",
   "name": "python",
   "nbconvert_exporter": "python",
   "pygments_lexer": "ipython3",
   "version": "3.5.2"
  }
 },
 "nbformat": 4,
 "nbformat_minor": 1
}
