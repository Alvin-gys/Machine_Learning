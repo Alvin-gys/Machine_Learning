{
 "cells": [
  {
   "cell_type": "code",
   "execution_count": 2,
   "metadata": {
    "collapsed": true
   },
   "outputs": [],
   "source": [
    "import tensorflow as tf\n",
    "import numpy as np"
   ]
  },
  {
   "cell_type": "code",
   "execution_count": 3,
   "metadata": {
    "collapsed": false
   },
   "outputs": [
    {
     "name": "stdout",
     "output_type": "stream",
     "text": [
      "0 [0.14730659, 0.43860796]\n",
      "20 [0.069623396, 0.21633632]\n",
      "40 [0.08531616, 0.20789687]\n",
      "60 [0.09290194, 0.2038173]\n",
      "80 [0.09656886, 0.20184524]\n",
      "100 [0.098341405, 0.20089197]\n",
      "120 [0.09919825, 0.20043117]\n",
      "140 [0.09961245, 0.20020843]\n",
      "160 [0.09981267, 0.20010075]\n",
      "180 [0.099909455, 0.2000487]\n",
      "200 [0.099956244, 0.20002353]\n"
     ]
    }
   ],
   "source": [
    "#使用numpy生成100个随机点\n",
    "#样本点\n",
    "x_data = np.random.rand(100)\n",
    "y_data = x_data*0.1 + 0.2\n",
    "\n",
    "#构造一个线性模型\n",
    "d = tf.Variable(1.1)\n",
    "k = tf.Variable(0.5)\n",
    "y = k*x_data + d\n",
    "\n",
    "#二次代价函数\n",
    "loss = tf.losses.mean_squared_error(y_data,y)\n",
    "#定义一个梯度下降法来进行训练的优化器\n",
    "optimizer = tf.train.GradientDescentOptimizer(0.3)\n",
    "#最小化代价函数\n",
    "train = optimizer.minimize(loss)\n",
    "\n",
    "#初始化变量\n",
    "init = tf.global_variables_initializer()\n",
    "\n",
    "with tf.Session() as sess:\n",
    "    sess.run(init)\n",
    "    for step in range(201):\n",
    "        sess.run(train)\n",
    "        if step%20 ==0:\n",
    "            print(step,sess.run([k,d]))"
   ]
  },
  {
   "cell_type": "code",
   "execution_count": null,
   "metadata": {
    "collapsed": true
   },
   "outputs": [],
   "source": []
  }
 ],
 "metadata": {
  "anaconda-cloud": {},
  "kernelspec": {
   "display_name": "Python [default]",
   "language": "python",
   "name": "python3"
  },
  "language_info": {
   "codemirror_mode": {
    "name": "ipython",
    "version": 3
   },
   "file_extension": ".py",
   "mimetype": "text/x-python",
   "name": "python",
   "nbconvert_exporter": "python",
   "pygments_lexer": "ipython3",
   "version": "3.5.2"
  }
 },
 "nbformat": 4,
 "nbformat_minor": 1
}
