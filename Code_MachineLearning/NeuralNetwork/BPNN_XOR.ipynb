{
 "cells": [
  {
   "cell_type": "code",
   "execution_count": 1,
   "metadata": {
    "collapsed": true
   },
   "outputs": [],
   "source": [
    "import numpy as np"
   ]
  },
  {
   "cell_type": "code",
   "execution_count": 2,
   "metadata": {
    "collapsed": false
   },
   "outputs": [
    {
     "name": "stdout",
     "output_type": "stream",
     "text": [
      "[[ 0.76793564  0.76661496 -0.4265787  -0.01544187 -0.24564507 -0.35843766\n",
      "   0.11088384 -0.2870464   0.49430082  0.68757685]\n",
      " [-0.62776086 -0.07454712 -0.79742553  0.05626355 -0.2549611  -0.66093572\n",
      "  -0.75016952 -0.35525863 -0.32193104  0.97955608]\n",
      " [ 0.00689914  0.20701725 -0.12885002 -0.1801187   0.27923563  0.6518872\n",
      "  -0.57211713  0.04773094  0.19317441 -0.02721401]]\n",
      "[[-0.04144962]\n",
      " [ 0.63580624]\n",
      " [ 0.01488815]\n",
      " [ 0.42072238]\n",
      " [ 0.36618231]\n",
      " [-0.25395135]\n",
      " [ 0.66198259]\n",
      " [-0.71345186]\n",
      " [-0.78841582]\n",
      " [ 0.03175582]]\n"
     ]
    }
   ],
   "source": [
    "#输入数据\n",
    "X = np.array([[1,0,0],\n",
    "              [1,0,1],\n",
    "              [1,1,0],\n",
    "              [1,1,1]])\n",
    "#标签\n",
    "Y = np.array([[0],\n",
    "              [1],\n",
    "              [1],\n",
    "              [0]])\n",
    "\n",
    "# 3-10-1\n",
    "#权值初始化，取值范围-1到1\n",
    "V = np.random.random([3,10])*2-1 \n",
    "W = np.random.random([10,1])*2-1\n",
    "print(V)\n",
    "print(W)\n",
    "\n",
    "#学习率设置\n",
    "lr = 0.11\n",
    "\n",
    "def sigmoid(x):\n",
    "    return 1/(1 + np.exp(-x))\n",
    "\n",
    "def dsigmoid(x):\n",
    "    return x*(1-x)\n",
    "\n",
    "def update():\n",
    "    global X,Y,W,V,lr\n",
    "    \n",
    "    # 求每一层输出\n",
    "    L1 = sigmoid(np.dot(X,V))  #隐藏层输出 (4,10)\n",
    "    L2 = sigmoid(np.dot(L1,W)) #输出层输出 (4,1)\n",
    "    \n",
    "    # 求每一层的学习信号\n",
    "    L2_delta = (Y - L2)*dsigmoid(L2) #(4,1)\n",
    "    L1_delta = L2_delta.dot(W.T)*dsigmoid(L1) #(4,10) \n",
    "    \n",
    "    # 求每一层权值的改变\n",
    "    W_C = lr*L1.T.dot(L2_delta)\n",
    "    V_C = lr*X.T.dot(L1_delta)\n",
    "    \n",
    "    # 改变权值\n",
    "    W = W + W_C\n",
    "    V = V + V_C"
   ]
  },
  {
   "cell_type": "code",
   "execution_count": 8,
   "metadata": {
    "collapsed": false
   },
   "outputs": [
    {
     "name": "stdout",
     "output_type": "stream",
     "text": [
      "loss: 2.1025396327347303e-06\n",
      "loss: 2.101611416709087e-06\n",
      "loss: 2.1006839953140766e-06\n",
      "loss: 2.099757367541277e-06\n",
      "loss: 2.098831532384001e-06\n",
      "loss: 2.0979064888375653e-06\n",
      "loss: 2.0969822358984076e-06\n",
      "loss: 2.0960587725649838e-06\n",
      "loss: 2.0951360978376665e-06\n",
      "loss: 2.094214210717983e-06\n",
      "loss: 2.0932931102095264e-06\n",
      "loss: 2.092372795317378e-06\n",
      "loss: 2.091453265048146e-06\n",
      "loss: 2.0905345184106566e-06\n",
      "loss: 2.089616554414593e-06\n",
      "loss: 2.0886993720720705e-06\n",
      "loss: 2.087782970396342e-06\n",
      "loss: 2.0868673484025397e-06\n",
      "loss: 2.0859525051073428e-06\n",
      "loss: 2.085038439529269e-06\n",
      "[[0.00177176]\n",
      " [0.99812898]\n",
      " [0.99773163]\n",
      " [0.00221081]]\n",
      "0\n",
      "1\n",
      "1\n",
      "0\n"
     ]
    }
   ],
   "source": [
    "for i in range(10000):\n",
    "    update()#更新权值\n",
    "    if i%500 == 0:\n",
    "        L1 = sigmoid(np.dot(X,V))#隐藏层输出\n",
    "        L2 = sigmoid(np.dot(L1,W))#输出层输出\n",
    "        print('loss:',np.mean(np.square(Y-L2)/2))\n",
    "        \n",
    "L1 = sigmoid(np.dot(X,V))#隐藏层输出\n",
    "L2 = sigmoid(np.dot(L1,W))#输出层输出\n",
    "print(L2)\n",
    "\n",
    "def judge(x):\n",
    "    if x >= 0.5:\n",
    "        return 1\n",
    "    else:\n",
    "        return 0\n",
    "\n",
    "for i in map(judge,L2):\n",
    "    print(i)"
   ]
  },
  {
   "cell_type": "code",
   "execution_count": null,
   "metadata": {
    "collapsed": true
   },
   "outputs": [],
   "source": []
  },
  {
   "cell_type": "code",
   "execution_count": null,
   "metadata": {
    "collapsed": true
   },
   "outputs": [],
   "source": []
  }
 ],
 "metadata": {
  "anaconda-cloud": {},
  "kernelspec": {
   "display_name": "Python [default]",
   "language": "python",
   "name": "python3"
  },
  "language_info": {
   "codemirror_mode": {
    "name": "ipython",
    "version": 3
   },
   "file_extension": ".py",
   "mimetype": "text/x-python",
   "name": "python",
   "nbconvert_exporter": "python",
   "pygments_lexer": "ipython3",
   "version": "3.5.2"
  }
 },
 "nbformat": 4,
 "nbformat_minor": 1
}
